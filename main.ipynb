{
 "cells": [
  {
   "cell_type": "code",
   "execution_count": null,
   "id": "71dfae74",
   "metadata": {},
   "outputs": [],
   "source": [
    "# import libraries\n",
    "import pandas as pd\n",
    "import numpy as np\n",
    "import wbdata"
   ]
  },
  {
   "cell_type": "code",
   "execution_count": null,
   "id": "8be42ebd",
   "metadata": {},
   "outputs": [
    {
     "data": {
      "text/plain": [
       "id                    name\n",
       "--------------------  ---------------------------------------------------\n",
       "6.0.GDPpc_constant    GDP per capita, PPP (constant 2011 international $)\n",
       "NY.GDP.PCAP.PP.CD     GDP per capita, PPP (current international $)\n",
       "NY.GDP.PCAP.PP.KD     GDP per capita, PPP (constant 2021 international $)\n",
       "NY.GDP.PCAP.PP.KD.87  GDP per capita, PPP (constant 1987 international $)\n",
       "NY.GDP.PCAP.PP.KD.ZG  GDP per capita, PPP annual growth (%)"
      ]
     },
     "execution_count": 5,
     "metadata": {},
     "output_type": "execute_result"
    }
   ],
   "source": [
    "# Find all relevant indicators with \"gdp\" in the name\n",
    "# NY.GDP.PCAP.PP.KD.ZG  GDP per capita, PPP annual growth (%) because Purchaingsing Power Parity (PPP) is better for comparing living standards between countries\n",
    "wbdata.get_indicators(query = \"gdp per capita, ppp\")"
   ]
  },
  {
   "cell_type": "code",
   "execution_count": null,
   "id": "987bbc26",
   "metadata": {},
   "outputs": [
    {
     "data": {
      "text/plain": [
       "id                    name\n",
       "--------------------  -----------------------------------------------------------------------------------\n",
       "FM.AST.CGOV.ZG.M3     Claims on central government (annual growth as % of broad money)\n",
       "FM.AST.DOMO.ZG.M3     Claims on other sectors of the domestic economy (annual growth as % of broad money)\n",
       "FM.AST.GOVT.ZG.M2     Claims on governments, etc. (annual growth as % of M2)\n",
       "FM.AST.PRVT.ZG.M2     Claims on private sector (annual growth as % of M2)\n",
       "FM.AST.PRVT.ZG.M3     Claims on private sector (annual growth as % of broad money)\n",
       "FM.AST.PUBL.ZG.M2     Claims on governments, etc. (annual growth as % of M2)\n",
       "NY.GDP.MKTP.ZG        Gross domestic product (Av. annual growth, %)\n",
       "NY.GDP.PCAP.PP.KD.ZG  GDP per capita, PPP annual growth (%)\n",
       "NY.GNY.TOTL.ZG        Gross national income (Av. annual growth, %)"
      ]
     },
     "execution_count": 13,
     "metadata": {},
     "output_type": "execute_result"
    }
   ],
   "source": [
    "# NY.GDP.PCAP.PP.KD.ZG  GDP per capita, PPP annual growth (%)\n",
    "wbdata.get_indicators(query = \"annual growth\")"
   ]
  },
  {
   "cell_type": "code",
   "execution_count": null,
   "id": "24058bd7",
   "metadata": {},
   "outputs": [
    {
     "data": {
      "text/plain": [
       "id                       name\n",
       "-----------------------  --------------------------------------------------------------------------------------------------\n",
       "PER.ALL.CPL.GDP          World Bank: Public capital expenditure on education as % of GDP\n",
       "PER.ALL.CPL.TOT          World Bank: Public capital expenditure on education as a % of total capital government expenditure\n",
       "PER.ALL.RCT.GDP          World Bank: Public recurrent expenditure on education (% of GDP)\n",
       "PER.SOR.GOV.TOT.CPL      World Bank: Share of total capital expenditure on education (% from public sources)\n",
       "PER.SOR.PVT.GDP          World Bank: Total private expenditure on education (% of GDP)\n",
       "SE.XPD.EDUC.ZS           Public Expenditure on Education  (% GDP)\n",
       "SE.XPD.PRIM.ZS           Expenditure on primary education (% of government expenditure on education)\n",
       "SE.XPD.SECO.ZS           Expenditure on secondary education (% of government expenditure on education)\n",
       "SE.XPD.TERT.ZS           Expenditure on tertiary education (% of government expenditure on education)\n",
       "SE.XPD.TOTL.GB.ZS        Government expenditure on education, total (% of government expenditure)\n",
       "SE.XPD.TOTL.GD.ZS        Government expenditure on education, total (% of GDP)\n",
       "UIS.X.PPP.FSGOV          Government expenditure on education, PPP$ (millions)\n",
       "UIS.X.PPP.UK.FSGOV       Government expenditure on education not specified by level, PPP$ (millions)\n",
       "UIS.X.PPPCONST.FSGOV     Government expenditure on education, constant PPP$ (millions)\n",
       "UIS.X.PPPCONST.UK.FSGOV  Government expenditure on education not specified by level, constant PPP$ (millions)\n",
       "UIS.X.PPP.UK.FSGOV       Government expenditure on education not specified by level, PPP$ (millions)\n",
       "UIS.X.PPPCONST.FSGOV     Government expenditure on education, constant PPP$ (millions)\n",
       "UIS.X.PPPCONST.UK.FSGOV  Government expenditure on education not specified by level, constant PPP$ (millions)\n",
       "UIS.X.US.FSGOV           Government expenditure on education, US$ (millions)\n",
       "UIS.X.US.UK.FSGOV        Government expenditure on education not specified by level, US$ (millions)\n",
       "UIS.X.USCONST.FSGOV      Government expenditure on education, constant US$ (millions)\n",
       "UIS.X.USCONST.UK.FSGOV   Government expenditure on education not specified by level, constant US$ (millions)"
      ]
     },
     "execution_count": 10,
     "metadata": {},
     "output_type": "execute_result"
    }
   ],
   "source": [
    "# SE.XPD.TOTL.GD.ZS        Government expenditure on education, total (% of GDP) because it is a good proxy for how much a country invests in education\n",
    "wbdata.get_indicators(query = \"expenditure on education\")"
   ]
  },
  {
   "cell_type": "code",
   "execution_count": null,
   "id": "cc9f7fe3",
   "metadata": {},
   "outputs": [
    {
     "data": {
      "text/plain": [
       "id                 name\n",
       "-----------------  ---------------------------------------------------------------------------\n",
       "2.0.cov.Sch        Coverage: School Enrollment\n",
       "2.0.hoi.Sch        HOI: School Enrollment\n",
       "SE.ENR.PRIM.FM.ZS  School enrollment, primary (gross), gender parity index (GPI)\n",
       "SE.ENR.PRSC.FM.ZS  School enrollment, primary and secondary (gross), gender parity index (GPI)\n",
       "SE.ENR.SECO.FM.ZS  School enrollment, secondary (gross), gender parity index (GPI)\n",
       "SE.ENR.TERT.FM.ZS  School enrollment, tertiary (gross), gender parity index (GPI)\n",
       "SE.PRE.ENRR        School enrollment, preprimary (% gross)\n",
       "SE.PRE.ENRR.FE     School enrollment, preprimary, female (% gross)\n",
       "SE.PRE.ENRR.MA     School enrollment, preprimary, male (% gross)\n",
       "SE.PRM.ENRR        School enrollment, primary (% gross)\n",
       "SE.PRM.ENRR.FE     School enrollment, primary, female (% gross)\n",
       "SE.PRM.ENRR.MA     School enrollment, primary, male (% gross)\n",
       "SE.PRM.NENR        School enrollment, primary (% net)\n",
       "SE.PRM.NENR.FE     School enrollment, primary, female (% net)\n",
       "SE.PRM.NENR.MA     School enrollment, primary, male (% net)\n",
       "SE.PRM.PRIV.ZS     School enrollment, primary, private (% of total primary)\n",
       "SE.SEC.ENRR        School enrollment, secondary (% gross)\n",
       "SE.SEC.ENRR.FE     School enrollment, secondary, female (% gross)\n",
       "SE.SEC.ENRR.MA     School enrollment, secondary, male (% gross)\n",
       "SE.SEC.NENR        School enrollment, secondary (% net)\n",
       "SE.SEC.NENR.FE     School enrollment, secondary, female (% net)\n",
       "SE.SEC.NENR.MA     School enrollment, secondary, male (% net)\n",
       "SE.SEC.PRIV.ZS     School enrollment, secondary, private (% of total secondary)\n",
       "SE.TER.ENRR        School enrollment, tertiary (% gross)\n",
       "SE.TER.ENRR.FE     School enrollment, tertiary, female (% gross)\n",
       "SE.TER.ENRR.MA     School enrollment, tertiary, male (% gross)"
      ]
     },
     "execution_count": 16,
     "metadata": {},
     "output_type": "execute_result"
    }
   ],
   "source": [
    "# SE.PRM.ENRR        School enrollment, primary (% gross)\n",
    "wbdata.get_indicators(query =\"School enrollment\")"
   ]
  },
  {
   "cell_type": "code",
   "execution_count": null,
   "id": "2a322968",
   "metadata": {},
   "outputs": [
    {
     "data": {
      "text/plain": [
       "id                       name\n",
       "-----------------------  ----------------------------------------------------------------------------------------\n",
       "LO.PIAAC.LIT             PIAAC: Mean Adult Literacy Proficiency. Total\n",
       "LO.PIAAC.LIT.FE          PIAAC: Mean Adult Literacy Proficiency. Female\n",
       "LO.PIAAC.LIT.MA          PIAAC: Mean Adult Literacy Proficiency. Male\n",
       "LO.PIAAC.LIT.P05         PIAAC: Distribution of Adult Literacy Scores: 5th Percentile Score\n",
       "LO.PIAAC.LIT.P10         PIAAC: Distribution of Adult Literacy Scores: 10th Percentile Score\n",
       "LO.PIAAC.LIT.P25         PIAAC: Distribution of Adult Literacy Scores: 25th Percentile Score\n",
       "LO.PIAAC.LIT.P50         PIAAC: Distribution of Adult Literacy Scores: 50th Percentile Score\n",
       "LO.PIAAC.LIT.P75         PIAAC: Distribution of Adult Literacy Scores: 75th Percentile Score\n",
       "LO.PIAAC.LIT.P90         PIAAC: Distribution of Adult Literacy Scores: 90th Percentile Score\n",
       "LO.PIAAC.LIT.P95         PIAAC: Distribution of Adult Literacy Scores: 95th Percentile Score\n",
       "LO.PIAAC.LIT.YOU         PIAAC: Mean Young Adult Literacy Proficiency. Total\n",
       "LO.PIAAC.LIT.YOU.FE      PIAAC: Mean Young Adult Literacy Proficiency. Female\n",
       "LO.PIAAC.LIT.YOU.MA      PIAAC: Mean Young Adult Literacy Proficiency. Male\n",
       "UIS.LR.AG15T99.F.LPIA    Adult literacy rate, population 15+ years, female, adjusted location parity index (LPIA)\n",
       "UIS.LR.AG15T99.GPIA      Adult literacy rate, population 15+ years, adjusted gender parity index (GPIA)\n",
       "UIS.LR.AG15T99.LPIA      Adult literacy rate, population 15+ years, adjusted location parity index (LPIA)\n",
       "UIS.LR.AG15T99.M.LPIA    Adult literacy rate, population 15+ years, male, adjusted location parity index (LPIA)\n",
       "UIS.LR.AG15T99.RUR       Adult literacy rate, population 15+ years, rural, both sexes (%)\n",
       "UIS.LR.AG15T99.RUR.F     Adult literacy rate, population 15+ years, rural, female (%)\n",
       "UIS.LR.AG15T99.RUR.GPIA  Adult literacy rate, population 15+ years, rural, adjusted gender parity index (GPIA)\n",
       "UIS.LR.AG15T99.RUR.M     Adult literacy rate, population 15+ years, rural, male (%)\n",
       "UIS.LR.AG15T99.URB       Adult literacy rate, population 15+ years, urban, both sexes (%)\n",
       "UIS.LR.AG15T99.URB.F     Adult literacy rate, population 15+ years, urban, female (%)\n",
       "UIS.LR.AG15T99.URB.GPIA  Adult literacy rate, population 15+ years, urban, adjusted gender parity index (GPIA)\n",
       "UIS.LR.AG15T99.URB.M     Adult literacy rate, population 15+ years, urban, male (%)"
      ]
     },
     "execution_count": 17,
     "metadata": {},
     "output_type": "execute_result"
    }
   ],
   "source": [
    "# UIS.LR.AG15T99.GPIA      Adult literacy rate, population 15+ years, adjusted gender parity index (GPIA)\n",
    "# UIS.LR.AG15T99.URB       Adult literacy rate, population 15+ years, urban, both sexes (%)\n",
    "# UIS.LR.AG15T99.RUR       Adult literacy rate, population 15+ years, rural, both sexes (%)\n",
    "\n",
    "wbdata.get_indicators(query =\"adult literacy\")"
   ]
  },
  {
   "cell_type": "code",
   "execution_count": 26,
   "id": "ae0716a0",
   "metadata": {},
   "outputs": [
    {
     "data": {
      "text/plain": [
       "id                       name\n",
       "-----------------------  ---------------------------------------------------------------------------------------------------------------------------\n",
       "JI.EMP.TOTL.SP.FE.ZS     Employment to population ratio, aged 15-64, female (% of female population in working age)\n",
       "JI.EMP.TOTL.SP.HE.ZS     Employment to population ratio, aged 15-64, above primary education (% of population with high education in working age)\n",
       "JI.EMP.TOTL.SP.LE.ZS     Employment to population ratio, aged 15-64, primary education and below (% of population with low education in working age)\n",
       "JI.EMP.TOTL.SP.MA.ZS     Employment to population ratio, aged 15-64, male (% of male population in working age)\n",
       "JI.EMP.TOTL.SP.OL.ZS     Employment to population ratio, aged 25-64 (% of population aged 25-64)\n",
       "JI.EMP.TOTL.SP.RU.ZS     Employment to population ratio, aged 15-64, rural (% of rural population in working age)\n",
       "JI.EMP.TOTL.SP.UR.ZS     Employment to population ratio, aged 15-64, urban (% of urban population in working age)\n",
       "JI.EMP.TOTL.SP.YG.ZS     Employment to population ratio, aged 15-24 (% of population aged 15-24)\n",
       "JI.EMP.TOTL.SP.ZS        Employment to population ratio, aged 15-64, total (% of total population in working age)\n",
       "SL.EMP.1524.SP.FE.NE.ZS  Employment to population ratio, ages 15-24, female (%) (national estimate)\n",
       "SL.EMP.1524.SP.FE.ZS     Employment to population ratio, ages 15-24, female (%) (modeled ILO estimate)\n",
       "SL.EMP.1524.SP.MA.NE.ZS  Employment to population ratio, ages 15-24, male (%) (national estimate)\n",
       "SL.EMP.1524.SP.MA.ZS     Employment to population ratio, ages 15-24, male (%) (modeled ILO estimate)\n",
       "SL.EMP.1524.SP.NE.ZS     Employment to population ratio, ages 15-24, total (%) (national estimate)\n",
       "SL.EMP.1524.SP.ZS        Employment to population ratio, ages 15-24, total (%) (modeled ILO estimate)\n",
       "SL.EMP.TOTL.SP.FE.NE.ZS  Employment to population ratio, 15+, female (%) (national estimate)\n",
       "SL.EMP.TOTL.SP.FE.ZS     Employment to population ratio, 15+, female (%) (modeled ILO estimate)\n",
       "SL.EMP.TOTL.SP.MA.NE.ZS  Employment to population ratio, 15+, male (%) (national estimate)\n",
       "SL.EMP.TOTL.SP.MA.ZS     Employment to population ratio, 15+, male (%) (modeled ILO estimate)\n",
       "SL.EMP.TOTL.SP.NE.ZS     Employment to population ratio, 15+, total (%) (national estimate)\n",
       "SL.EMP.TOTL.SP.ZS        Employment to population ratio, 15+, total (%) (modeled ILO estimate)"
      ]
     },
     "execution_count": 26,
     "metadata": {},
     "output_type": "execute_result"
    }
   ],
   "source": [
    "# SL.EMP.TOTL.SP.NE.ZS     Employment to population ratio, 15+, total (%) (national estimate)\n",
    "wbdata.get_indicators(query =\"employment to population ratio,\")"
   ]
  },
  {
   "cell_type": "code",
   "execution_count": null,
   "id": "62465b0e",
   "metadata": {},
   "outputs": [
    {
     "data": {
      "text/plain": [
       "id              name\n",
       "--------------  -----------------------------------------------\n",
       "JI.POP.URBN.ZS  Urban population, total (% of total population)\n",
       "SP.POP.TOTL     Population, total"
      ]
     },
     "execution_count": 27,
     "metadata": {},
     "output_type": "execute_result"
    }
   ],
   "source": [
    "# SP.POP.TOTL     Population, total\n",
    "wbdata.get_indicators(query =\"population, total\")"
   ]
  },
  {
   "cell_type": "code",
   "execution_count": null,
   "id": "e91508f7",
   "metadata": {},
   "outputs": [
    {
     "data": {
      "text/plain": [
       "id           name\n",
       "-----------  -----------------\n",
       "SP.POP.TOTL  Population, total"
      ]
     },
     "execution_count": 28,
     "metadata": {},
     "output_type": "execute_result"
    }
   ],
   "source": []
  }
 ],
 "metadata": {
  "kernelspec": {
   "display_name": "Python 3",
   "language": "python",
   "name": "python3"
  },
  "language_info": {
   "codemirror_mode": {
    "name": "ipython",
    "version": 3
   },
   "file_extension": ".py",
   "mimetype": "text/x-python",
   "name": "python",
   "nbconvert_exporter": "python",
   "pygments_lexer": "ipython3",
   "version": "3.12.1"
  }
 },
 "nbformat": 4,
 "nbformat_minor": 5
}
